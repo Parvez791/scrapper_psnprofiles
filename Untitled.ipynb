{
 "cells": [
  {
   "cell_type": "markdown",
   "metadata": {},
   "source": [
    "# Importing necessaty libraries. Importing pandas for cleaning the output"
   ]
  },
  {
   "cell_type": "code",
   "execution_count": null,
   "metadata": {},
   "outputs": [],
   "source": [
    "import pandas as pd\n",
    "import requests\n",
    "from bs4 import BeautifulSoup"
   ]
  },
  {
   "cell_type": "markdown",
   "metadata": {},
   "source": [
    "# Creating the list of urls"
   ]
  },
  {
   "cell_type": "code",
   "execution_count": 63,
   "metadata": {},
   "outputs": [
    {
     "name": "stdout",
     "output_type": "stream",
     "text": [
      "['https://psnprofiles.com/leaderboard/all', 'https://psnprofiles.com/leaderboard/all?page=2', 'https://psnprofiles.com/leaderboard/all?page=3']\n"
     ]
    }
   ],
   "source": [
    "all_urls=[]\n",
    "for i in range (2,4):  #<=== the range will set the no of web pages to crawl.>\n",
    "    u = \"https://psnprofiles.com/leaderboard/all?page=\"\n",
    "    i=str(i)\n",
    "    #print(type(i))\n",
    "    u=u+i\n",
    "    all_urls.append(u)\n",
    "\n",
    "u1= ['https://psnprofiles.com/leaderboard/all'] #<=== adding the first webpage to the list of others.>\n",
    "u1.extend(all_urls)\n",
    "urls=u1\n",
    "#print(urls)\n"
   ]
  },
  {
   "cell_type": "markdown",
   "metadata": {},
   "source": [
    "# The scrapper body"
   ]
  },
  {
   "cell_type": "code",
   "execution_count": 64,
   "metadata": {},
   "outputs": [
    {
     "name": "stdout",
     "output_type": "stream",
     "text": [
      "['\\n\\t\\t\\tHakoom\\n\\t\\t', '\\n\\t\\t\\tferryjan\\n\\t\\t', '\\n\\t\\t\\ttusman\\n\\t\\t', '\\n\\t\\t\\tUnknown_v2_0\\n\\t\\t', '\\n\\t\\t\\tikemenzi\\n\\t\\t', '\\n\\t\\t\\tDiddi89\\n\\t\\t', '\\n\\t\\t\\tViensDanser\\n\\t\\t', '\\n\\t\\t\\tMarCCeoN\\n\\t\\t', '\\n\\t\\t\\tdav1d_123\\n\\t\\t', '\\n\\t\\t\\tSmashero\\n\\t\\t', '\\n\\t\\t\\tGEORaGEous\\n\\t\\t', '\\n\\t\\t\\tskroq\\n\\t\\t', '\\n\\t\\t\\tAlessandro54\\n\\t\\t', '\\n\\t\\t\\txLukk\\n\\t\\t', '\\n\\t\\t\\tBiel_Eric\\n\\t\\t', '\\n\\t\\t\\tmaormaor13\\n\\t\\t', '\\n\\t\\t\\tjigsaw84000\\n\\t\\t', '\\n\\t\\t\\tBizzy_Montana_\\n\\t\\t', '\\n\\t\\t\\tchris_play1\\n\\t\\t', '\\n\\t\\t\\tblackangel887462\\n\\t\\t', '\\n\\t\\t\\temet81\\n\\t\\t', '\\n\\t\\t\\tginko765\\n\\t\\t', '\\n\\t\\t\\tSUPER_STEFAN_83\\n\\t\\t', '\\n\\t\\t\\tThe-Ricksterr\\n\\t\\t', '\\n\\t\\t\\tHUTCHY007\\n\\t\\t', '\\n\\t\\t\\tMelston2010\\n\\t\\t', '\\n\\t\\t\\tsanwang\\n\\t\\t', '\\n\\t\\t\\tLucasDiasC\\n\\t\\t', '\\n\\t\\t\\tmuhoo_doujin\\n\\t\\t', '\\n\\t\\t\\tmaxijodi\\n\\t\\t', '\\n\\t\\t\\tkusanobukenji\\n\\t\\t', '\\n\\t\\t\\tBarriebar17\\n\\t\\t', '\\n\\t\\t\\tBrozYn88\\n\\t\\t', '\\n\\t\\t\\tPFLATSCH\\n\\t\\t', '\\n\\t\\t\\tSchivorer\\n\\t\\t', '\\n\\t\\t\\tlasthit565\\n\\t\\t', '\\n\\t\\t\\tjohnboy75129\\n\\t\\t', '\\n\\t\\t\\tGraefinTascha\\n\\t\\t', '\\n\\t\\t\\tclouzing\\n\\t\\t', '\\n\\t\\t\\tdjviktors\\n\\t\\t', '\\n\\t\\t\\tLightsp33d1987\\n\\t\\t', '\\n\\t\\t\\tAffectatiousDonk\\n\\t\\t', '\\n\\t\\t\\tBobasun\\n\\t\\t', '\\n\\t\\t\\tTuffinz_\\n\\t\\t', '\\n\\t\\t\\tauber002b\\n\\t\\t', '\\n\\t\\t\\tmidgetstrawdog\\n\\t\\t', '\\n\\t\\t\\tdernop\\n\\t\\t', '\\n\\t\\t\\tJHmm1101\\n\\t\\t', '\\n\\t\\t\\tKimrai\\n\\t\\t', '\\n\\t\\t\\tGAKI\\n\\t\\t', '\\n\\t\\t\\tAngus1343\\n\\t\\t', '\\n\\t\\t\\tTrippie1995\\n\\t\\t', '\\n\\t\\t\\tjayboo1991\\n\\t\\t', '\\n\\t\\t\\tNiTR0--X_\\n\\t\\t', '\\n\\t\\t\\tartjai0966\\n\\t\\t', '\\n\\t\\t\\tCactuarism\\n\\t\\t', '\\n\\t\\t\\tyoszek\\n\\t\\t', '\\n\\t\\t\\tTJMEAT\\n\\t\\t', '\\n\\t\\t\\tTonat1601\\n\\t\\t', '\\n\\t\\t\\tDino_Roar\\n\\t\\t', '\\n\\t\\t\\tDJ-AN2011\\n\\t\\t', '\\n\\t\\t\\tBallin404\\n\\t\\t', '\\n\\t\\t\\tWarlord99956\\n\\t\\t', '\\n\\t\\t\\tTOV0917\\n\\t\\t', '\\n\\t\\t\\tbanlieue8952\\n\\t\\t', '\\n\\t\\t\\tTheScorpi0411\\n\\t\\t', '\\n\\t\\t\\twarhammer82_RUS\\n\\t\\t', '\\n\\t\\t\\tMatrikPS\\n\\t\\t', '\\n\\t\\t\\tDerDeutscher\\n\\t\\t', '\\n\\t\\t\\tbreathofwater\\n\\t\\t', '\\n\\t\\t\\tFanatico1981\\n\\t\\t', '\\n\\t\\t\\tPMeat\\n\\t\\t', '\\n\\t\\t\\tRageInYourFace34\\n\\t\\t', '\\n\\t\\t\\tKnightmare_1985\\n\\t\\t', '\\n\\t\\t\\tIco2807\\n\\t\\t', '\\n\\t\\t\\tFfredericC\\n\\t\\t', '\\n\\t\\t\\tHalon_50\\n\\t\\t', '\\n\\t\\t\\tForeverNamiChris\\n\\t\\t', '\\n\\t\\t\\tyoda6380\\n\\t\\t', '\\n\\t\\t\\tthekhs\\n\\t\\t', '\\n\\t\\t\\topiate-77\\n\\t\\t', '\\n\\t\\t\\tmayuki115\\n\\t\\t', '\\n\\t\\t\\tdiskdocx\\n\\t\\t', '\\n\\t\\t\\tGutterDragon\\n\\t\\t']\n"
     ]
    }
   ],
   "source": [
    "      \n",
    "result=[]\n",
    "for url in urls:\n",
    "    \n",
    "    page= requests.get(url)\n",
    "    soup = BeautifulSoup(page.content, 'html.parser')\n",
    "    leader_board=soup.find(id=\"leaderboard\")\n",
    "    players = leader_board.find_all(class_=\"title premium\")\n",
    "    #print(players)    \n",
    "    \n",
    "    player_name = [player.getText()for player in players]\n",
    "    result.extend(player_name)\n",
    "    \n",
    "#print(result)"
   ]
  },
  {
   "cell_type": "markdown",
   "metadata": {},
   "source": [
    "# Storing the resutl to a dtaframe for further teatment. Here panda in needed."
   ]
  },
  {
   "cell_type": "code",
   "execution_count": 65,
   "metadata": {},
   "outputs": [
    {
     "data": {
      "text/html": [
       "<div>\n",
       "<style scoped>\n",
       "    .dataframe tbody tr th:only-of-type {\n",
       "        vertical-align: middle;\n",
       "    }\n",
       "\n",
       "    .dataframe tbody tr th {\n",
       "        vertical-align: top;\n",
       "    }\n",
       "\n",
       "    .dataframe thead th {\n",
       "        text-align: right;\n",
       "    }\n",
       "</style>\n",
       "<table border=\"1\" class=\"dataframe\">\n",
       "  <thead>\n",
       "    <tr style=\"text-align: right;\">\n",
       "      <th></th>\n",
       "      <th>Player_Name</th>\n",
       "    </tr>\n",
       "  </thead>\n",
       "  <tbody>\n",
       "    <tr>\n",
       "      <td>0</td>\n",
       "      <td>\\n\\t\\t\\tHakoom\\n\\t\\t</td>\n",
       "    </tr>\n",
       "    <tr>\n",
       "      <td>1</td>\n",
       "      <td>\\n\\t\\t\\tferryjan\\n\\t\\t</td>\n",
       "    </tr>\n",
       "    <tr>\n",
       "      <td>2</td>\n",
       "      <td>\\n\\t\\t\\ttusman\\n\\t\\t</td>\n",
       "    </tr>\n",
       "    <tr>\n",
       "      <td>3</td>\n",
       "      <td>\\n\\t\\t\\tUnknown_v2_0\\n\\t\\t</td>\n",
       "    </tr>\n",
       "    <tr>\n",
       "      <td>4</td>\n",
       "      <td>\\n\\t\\t\\tikemenzi\\n\\t\\t</td>\n",
       "    </tr>\n",
       "  </tbody>\n",
       "</table>\n",
       "</div>"
      ],
      "text/plain": [
       "                  Player_Name\n",
       "0        \\n\\t\\t\\tHakoom\\n\\t\\t\n",
       "1      \\n\\t\\t\\tferryjan\\n\\t\\t\n",
       "2        \\n\\t\\t\\ttusman\\n\\t\\t\n",
       "3  \\n\\t\\t\\tUnknown_v2_0\\n\\t\\t\n",
       "4      \\n\\t\\t\\tikemenzi\\n\\t\\t"
      ]
     },
     "execution_count": 65,
     "metadata": {},
     "output_type": "execute_result"
    }
   ],
   "source": [
    "df1= pd.DataFrame({'Player_Name':result})\n",
    "\n",
    "df1.head()"
   ]
  },
  {
   "cell_type": "markdown",
   "metadata": {},
   "source": [
    "# Cleaing the out put & put the cleared output in a seperate column"
   ]
  },
  {
   "cell_type": "code",
   "execution_count": 66,
   "metadata": {},
   "outputs": [
    {
     "name": "stdout",
     "output_type": "stream",
     "text": [
      "                   Player_Name        Player\n",
      "0         \\n\\t\\t\\tHakoom\\n\\t\\t        Hakoom\n",
      "1       \\n\\t\\t\\tferryjan\\n\\t\\t      ferryjan\n",
      "2         \\n\\t\\t\\ttusman\\n\\t\\t        tusman\n",
      "3   \\n\\t\\t\\tUnknown_v2_0\\n\\t\\t  Unknown_v2_0\n",
      "4       \\n\\t\\t\\tikemenzi\\n\\t\\t      ikemenzi\n",
      "..                         ...           ...\n",
      "79        \\n\\t\\t\\tthekhs\\n\\t\\t        thekhs\n",
      "80     \\n\\t\\t\\topiate-77\\n\\t\\t     opiate-77\n",
      "81     \\n\\t\\t\\tmayuki115\\n\\t\\t     mayuki115\n",
      "82      \\n\\t\\t\\tdiskdocx\\n\\t\\t      diskdocx\n",
      "83  \\n\\t\\t\\tGutterDragon\\n\\t\\t  GutterDragon\n",
      "\n",
      "[84 rows x 2 columns]\n"
     ]
    }
   ],
   "source": [
    "df1['Player']=df1['Player_Name'].str[4:-3]\n",
    "print(df1)"
   ]
  },
  {
   "cell_type": "markdown",
   "metadata": {},
   "source": [
    "# Dropping the unnecessary columns.Once it dune, cant be undone."
   ]
  },
  {
   "cell_type": "code",
   "execution_count": 71,
   "metadata": {},
   "outputs": [
    {
     "data": {
      "text/html": [
       "<div>\n",
       "<style scoped>\n",
       "    .dataframe tbody tr th:only-of-type {\n",
       "        vertical-align: middle;\n",
       "    }\n",
       "\n",
       "    .dataframe tbody tr th {\n",
       "        vertical-align: top;\n",
       "    }\n",
       "\n",
       "    .dataframe thead th {\n",
       "        text-align: right;\n",
       "    }\n",
       "</style>\n",
       "<table border=\"1\" class=\"dataframe\">\n",
       "  <thead>\n",
       "    <tr style=\"text-align: right;\">\n",
       "      <th></th>\n",
       "      <th>Player</th>\n",
       "    </tr>\n",
       "  </thead>\n",
       "  <tbody>\n",
       "    <tr>\n",
       "      <td>0</td>\n",
       "      <td>Hakoom</td>\n",
       "    </tr>\n",
       "    <tr>\n",
       "      <td>1</td>\n",
       "      <td>ferryjan</td>\n",
       "    </tr>\n",
       "    <tr>\n",
       "      <td>2</td>\n",
       "      <td>tusman</td>\n",
       "    </tr>\n",
       "    <tr>\n",
       "      <td>3</td>\n",
       "      <td>Unknown_v2_0</td>\n",
       "    </tr>\n",
       "    <tr>\n",
       "      <td>4</td>\n",
       "      <td>ikemenzi</td>\n",
       "    </tr>\n",
       "    <tr>\n",
       "      <td>...</td>\n",
       "      <td>...</td>\n",
       "    </tr>\n",
       "    <tr>\n",
       "      <td>79</td>\n",
       "      <td>thekhs</td>\n",
       "    </tr>\n",
       "    <tr>\n",
       "      <td>80</td>\n",
       "      <td>opiate-77</td>\n",
       "    </tr>\n",
       "    <tr>\n",
       "      <td>81</td>\n",
       "      <td>mayuki115</td>\n",
       "    </tr>\n",
       "    <tr>\n",
       "      <td>82</td>\n",
       "      <td>diskdocx</td>\n",
       "    </tr>\n",
       "    <tr>\n",
       "      <td>83</td>\n",
       "      <td>GutterDragon</td>\n",
       "    </tr>\n",
       "  </tbody>\n",
       "</table>\n",
       "<p>84 rows × 1 columns</p>\n",
       "</div>"
      ],
      "text/plain": [
       "          Player\n",
       "0         Hakoom\n",
       "1       ferryjan\n",
       "2         tusman\n",
       "3   Unknown_v2_0\n",
       "4       ikemenzi\n",
       "..           ...\n",
       "79        thekhs\n",
       "80     opiate-77\n",
       "81     mayuki115\n",
       "82      diskdocx\n",
       "83  GutterDragon\n",
       "\n",
       "[84 rows x 1 columns]"
      ]
     },
     "execution_count": 71,
     "metadata": {},
     "output_type": "execute_result"
    }
   ],
   "source": [
    "df1.drop(columns=[\"Player_Name\"])"
   ]
  },
  {
   "cell_type": "markdown",
   "metadata": {},
   "source": [
    "# exporitng the uptput to CSV file"
   ]
  },
  {
   "cell_type": "code",
   "execution_count": 77,
   "metadata": {},
   "outputs": [],
   "source": [
    "df1.to_csv('scrapper_psnprofiles.csv')\n"
   ]
  }
 ],
 "metadata": {
  "kernelspec": {
   "display_name": "Python 3",
   "language": "python",
   "name": "python3"
  },
  "language_info": {
   "codemirror_mode": {
    "name": "ipython",
    "version": 3
   },
   "file_extension": ".py",
   "mimetype": "text/x-python",
   "name": "python",
   "nbconvert_exporter": "python",
   "pygments_lexer": "ipython3",
   "version": "3.7.4"
  }
 },
 "nbformat": 4,
 "nbformat_minor": 2
}
